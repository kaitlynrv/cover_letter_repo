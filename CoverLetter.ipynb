{
  "nbformat": 4,
  "nbformat_minor": 0,
  "metadata": {
    "colab": {
      "provenance": [],
      "mount_file_id": "1u3RpSc6un5zQKh0i95IzuOaV52wwbQ2O",
      "authorship_tag": "ABX9TyNGVun23P3bHV4FAzVzf3IG",
      "include_colab_link": true
    },
    "kernelspec": {
      "name": "python3",
      "display_name": "Python 3"
    },
    "language_info": {
      "name": "python"
    }
  },
  "cells": [
    {
      "cell_type": "markdown",
      "metadata": {
        "id": "view-in-github",
        "colab_type": "text"
      },
      "source": [
        "<a href=\"https://colab.research.google.com/github/kaitlynrv/cover_letter_repo/blob/main/CoverLetter.ipynb\" target=\"_parent\"><img src=\"https://colab.research.google.com/assets/colab-badge.svg\" alt=\"Open In Colab\"/></a>"
      ]
    },
    {
      "cell_type": "code",
      "source": [
        "!pip install fpdf"
      ],
      "metadata": {
        "colab": {
          "base_uri": "https://localhost:8080/"
        },
        "id": "ZWmtWTdu6oOS",
        "outputId": "88a93b89-d3bc-4037-fa8b-a9bd5eed9e2a"
      },
      "execution_count": 71,
      "outputs": [
        {
          "output_type": "stream",
          "name": "stdout",
          "text": [
            "Requirement already satisfied: fpdf in /usr/local/lib/python3.10/dist-packages (1.7.2)\n"
          ]
        }
      ]
    },
    {
      "cell_type": "code",
      "execution_count": 72,
      "metadata": {
        "id": "NVar15YS5T5C"
      },
      "outputs": [],
      "source": [
        "from fpdf import FPDF"
      ]
    },
    {
      "cell_type": "code",
      "source": [
        "from google.colab import drive\n",
        "drive.mount('/content/drive')"
      ],
      "metadata": {
        "colab": {
          "base_uri": "https://localhost:8080/"
        },
        "id": "gM2ogjwE7BFu",
        "outputId": "47c4218a-3bc7-4dad-e4aa-4fccbee32dfb"
      },
      "execution_count": 73,
      "outputs": [
        {
          "output_type": "stream",
          "name": "stdout",
          "text": [
            "Drive already mounted at /content/drive; to attempt to forcibly remount, call drive.mount(\"/content/drive\", force_remount=True).\n"
          ]
        }
      ]
    },
    {
      "cell_type": "code",
      "source": [
        "# Define the candidate's details\n",
        "candidate_name = \"Your Full Name\"\n",
        "position = \"Position\"\n",
        "company_name = \"ABC Corporation\"\n",
        "job_listing_source = \"LinkedIn\"\n",
        "phone_number = \"123-456-7890\"\n",
        "email_address = \"your.email@example.com\""
      ],
      "metadata": {
        "id": "eH8NwG8Y5fiN"
      },
      "execution_count": 74,
      "outputs": []
    },
    {
      "cell_type": "code",
      "source": [
        "# Create a PDF class\n",
        "class PDF(FPDF):\n",
        "    def header(self):\n",
        "        self.set_font(\"Times\", \"B\", 16)\n",
        "        self.cell(0, 10, candidate_name.upper(), 0, 1, \"C\")\n",
        "        self.set_font(\"Times\", size=12)\n",
        "        self.cell(0, 10, f\"email | {phone_number} | linkedin | GitHub\", 0, 1, \"C\")\n",
        "        self.cell(0, 10, \"\", 0, 1, \"C\")  # Add an empty line for spacing\n",
        "\n",
        "    def footer(self):\n",
        "        self.set_y(-15)\n",
        "        self.set_font(\"Times\", \"I\", 8)\n",
        "        self.cell(0, 10, f\"Page {self.page_no()}\", 0, 0, \"C\")"
      ],
      "metadata": {
        "id": "WxOS7J615iND"
      },
      "execution_count": 75,
      "outputs": []
    },
    {
      "cell_type": "code",
      "source": [
        "# Create a PDF instance\n",
        "pdf = PDF()\n",
        "pdf.add_page()"
      ],
      "metadata": {
        "id": "10a21ghq5jKy"
      },
      "execution_count": 76,
      "outputs": []
    },
    {
      "cell_type": "code",
      "source": [
        "# Define the body of the cover letter\n",
        "cover_letter = f\"\"\"Dear Selection Committee,\n",
        "\n",
        "I am excited to express my strong interest in the {position} position at {company_name}, as advertised on {job_listing_source}. My passion for data science, technology, and coding-driven solutions has been a driving force in my career, and I am eager to bring my unique skills and experiences to contribute to {company_name}'s mission.\n",
        "\n",
        "My qualifications align with the key vattributes required for this role:\n",
        "\n",
        "- Strong Research, Analytical, Problem-Solving, and Critical Thinking Skills: These qualities are exemplified in my experience [Provide an example of your work that demonstrates these skills]. Whether it's conducting in-depth data analysis, solving complex coding challenges, or developing innovative solutions, my ability to analyze and solve problems has consistently delivered valuable outcomes.\n",
        "\n",
        "- Curiosity and Exploration: I have a natural inclination for curiosity and exploration, which I have applied to [Mention how you have used curiosity and exploration in a specific project or task]. This trait drives me to continuously seek new and better ways to address challenges and explore creative solutions.\n",
        "\n",
        "- Adaptable and Resilient Attitude: In a rapidly evolving tech environment, I thrive in dynamic situations and adapt quickly to changing requirements. My experience at [Provide an example of an environment where you displayed adaptability and resilience] reflects my ability to stay resilient and adapt to any situation.\n",
        "\n",
        "- Willingness to Embrace New Challenges: My proactive attitude extends to my eagerness to try new things outside my comfort zone. For instance, I leveraged and showcased my growing knowledge in Python by writing this cover letter, demonstrating my commitment to learning and adapting to new technologies and tasks.\n",
        "\n",
        "I am confident that my skills and attitude make me a strong candidate for the {position} position at {company_name}. I am eager to collaborate with your team, and I am committed to delivering exceptional results in a dynamic and fast-paced environment.\n",
        "\n",
        "Enclosed is my resume for your reference, and I am available to discuss how my experience and skills align with {company_name}'s goals in more detail. Please feel free to reach out to me at {phone_number} or {email_address}.\n",
        "\n",
        "Thank you for considering my application. I look forward to the opportunity to contribute to {company_name}'s continued success.\n",
        "\n",
        "Sincerely,\n",
        "{candidate_name}\n",
        "\"\"\""
      ],
      "metadata": {
        "id": "a3dmTdzQ5mgu"
      },
      "execution_count": 77,
      "outputs": []
    },
    {
      "cell_type": "code",
      "source": [
        "cover_letter_encoded = cover_letter.encode(\"utf-8\")"
      ],
      "metadata": {
        "id": "ByZ1U_EYEX-s"
      },
      "execution_count": 78,
      "outputs": []
    },
    {
      "cell_type": "code",
      "source": [
        "# Add the cover letter text to the PDF\n",
        "pdf.set_font(\"Times\", size=12)\n",
        "pdf.multi_cell(0, 10, cover_letter)"
      ],
      "metadata": {
        "colab": {
          "base_uri": "https://localhost:8080/"
        },
        "id": "ehbyBmwn5sPL",
        "outputId": "b39821dc-8d48-47dc-ab1f-d7f83e191bbd"
      },
      "execution_count": 79,
      "outputs": [
        {
          "output_type": "execute_result",
          "data": {
            "text/plain": [
              "[]"
            ]
          },
          "metadata": {},
          "execution_count": 79
        }
      ]
    },
    {
      "cell_type": "code",
      "source": [
        "# Save to drive\n",
        "output_path = \"/content/drive/MyDrive/Projects_self/cover_letter.pdf\"\n",
        "pdf.output(output_path)"
      ],
      "metadata": {
        "colab": {
          "base_uri": "https://localhost:8080/",
          "height": 36
        },
        "id": "1VADrM_56sC1",
        "outputId": "8eaa36c6-0efa-4fe5-fce2-0f6faeda3a57"
      },
      "execution_count": 81,
      "outputs": [
        {
          "output_type": "execute_result",
          "data": {
            "text/plain": [
              "''"
            ],
            "application/vnd.google.colaboratory.intrinsic+json": {
              "type": "string"
            }
          },
          "metadata": {},
          "execution_count": 81
        }
      ]
    },
    {
      "cell_type": "code",
      "source": [],
      "metadata": {
        "id": "QU4iVKN68TsS"
      },
      "execution_count": 80,
      "outputs": []
    }
  ]
}